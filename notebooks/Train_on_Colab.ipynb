{
  "nbformat": 4,
  "nbformat_minor": 0,
  "metadata": {
    "colab": {
      "provenance": [],
      "gpuType": "T4",
      "authorship_tag": "ABX9TyNXfcycdtiDVhz5DL7vE/hz",
      "include_colab_link": true
    },
    "kernelspec": {
      "name": "python3",
      "display_name": "Python 3"
    },
    "language_info": {
      "name": "python"
    },
    "accelerator": "GPU"
  },
  "cells": [
    {
      "cell_type": "markdown",
      "metadata": {
        "id": "view-in-github",
        "colab_type": "text"
      },
      "source": [
        "<a href=\"https://colab.research.google.com/github/markwilkening21/tal-teasers/blob/main/notebooks/Train_on_Colab.ipynb\" target=\"_parent\"><img src=\"https://colab.research.google.com/assets/colab-badge.svg\" alt=\"Open In Colab\"/></a>"
      ]
    },
    {
      "cell_type": "markdown",
      "source": [
        "[![Open In Colab](https://colab.research.google.com/assets/colab-badge.svg)](https://colab.research.google.com/github/markwilkening21/tal-teasers/blob/main/notebooks/Train_on_Colab.ipynb)\n",
        "  "
      ],
      "metadata": {
        "id": "jan714xAh4jS"
      }
    },
    {
      "cell_type": "code",
      "source": [
        "!nvidia-smi\n",
        "import os, torch\n",
        "os.environ[\"USE_TF\"]=\"0\"; os.environ[\"USE_FLAX\"]=\"0\"\n",
        "os.environ[\"TRANSFORMERS_NO_TF\"]=\"1\"; os.environ[\"TRANSFORMERS_NO_FLAX\"]=\"1\"\n",
        "os.environ[\"TF_CPP_MIN_LOG_LEVEL\"]=\"3\"\n",
        "print(\"CUDA available:\", torch.cuda.is_available())\n",
        "if torch.cuda.is_available():\n",
        "    print(\"GPU:\", torch.cuda.get_device_name(0))"
      ],
      "metadata": {
        "id": "bqBcvcP5iCvV"
      },
      "execution_count": null,
      "outputs": []
    },
    {
      "cell_type": "code",
      "source": [
        "REPO = \"markwilkening21/tal-teasers\"\n",
        "WORKDIR = \"/content/talteasers\"\n",
        "\n",
        "import os\n",
        "if not os.path.exists(WORKDIR):\n",
        "    !git clone https://github.com/{REPO}.git {WORKDIR}\n",
        "else:\n",
        "    %cd {WORKDIR}\n",
        "    !git pull\n",
        "%cd {WORKDIR}"
      ],
      "metadata": {
        "id": "guJXeL-JiJaK"
      },
      "execution_count": null,
      "outputs": []
    },
    {
      "cell_type": "code",
      "source": [
        "!pip -q install -U pip\n",
        "!pip -q install --upgrade transformers datasets evaluate rouge-score bert-score tqdm matplotlib pandas"
      ],
      "metadata": {
        "id": "Dwzd-NmUiMAV"
      },
      "execution_count": null,
      "outputs": []
    },
    {
      "cell_type": "code",
      "source": [
        "!mkdir -p data"
      ],
      "metadata": {
        "id": "bR2PezaKiOYU"
      },
      "execution_count": null,
      "outputs": []
    },
    {
      "cell_type": "code",
      "source": [
        "!python -m src.train \\\n",
        "  --model-checkpoint t5-small \\\n",
        "  --epochs 1 \\\n",
        "  --train-batch-size 2 \\\n",
        "  --eval-batch-size 2 \\\n",
        "  --grad-accum-steps 4 \\\n",
        "  --eval-strategy no \\\n",
        "  --fp16"
      ],
      "metadata": {
        "id": "p1XLtlkriPZm"
      },
      "execution_count": null,
      "outputs": []
    }
  ]
}